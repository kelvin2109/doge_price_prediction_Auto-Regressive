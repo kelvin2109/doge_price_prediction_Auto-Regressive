{
 "cells": [
  {
   "cell_type": "code",
   "execution_count": 1,
   "id": "b42d73a6",
   "metadata": {},
   "outputs": [],
   "source": [
    "from statsmodels.tsa.stattools import adfuller\n",
    "from statsmodels.tsa.vector_ar.vecm import coint_johansen\n",
    "\n",
    "from pmdarima.model_selection import train_test_split as time_train_test_split\n",
    "from sklearn import metrics\n",
    "from sklearn.model_selection import ParameterGrid \n",
    "\n",
    "from statsmodels.tsa.api import VAR\n",
    "from statsmodels.tsa.statespace.varmax import VARMAX\n",
    "from pmdarima import auto_arima\n",
    "from scipy import stats\n",
    "\n",
    "import warnings\n",
    "warnings.filterwarnings(\"ignore\")"
   ]
  },
  {
   "cell_type": "code",
   "execution_count": 2,
   "id": "4bbc62ef",
   "metadata": {},
   "outputs": [],
   "source": [
    "import pandas as pd\n",
    "import numpy as np"
   ]
  },
  {
   "cell_type": "code",
   "execution_count": 3,
   "id": "0f468b58",
   "metadata": {},
   "outputs": [],
   "source": [
    "from statsmodels.tsa.stattools import kpss"
   ]
  },
  {
   "cell_type": "code",
   "execution_count": 4,
   "id": "8bd320b1",
   "metadata": {},
   "outputs": [],
   "source": [
    "import matplotlib.pyplot as plt\n",
    "%matplotlib inline"
   ]
  },
  {
   "cell_type": "code",
   "execution_count": 5,
   "id": "e2e422fe",
   "metadata": {},
   "outputs": [],
   "source": [
    "df = pd.read_csv('dataset/doge.csv')"
   ]
  },
  {
   "cell_type": "code",
   "execution_count": 6,
   "id": "86fb7cb4",
   "metadata": {},
   "outputs": [
    {
     "data": {
      "text/html": [
       "<div>\n",
       "<style scoped>\n",
       "    .dataframe tbody tr th:only-of-type {\n",
       "        vertical-align: middle;\n",
       "    }\n",
       "\n",
       "    .dataframe tbody tr th {\n",
       "        vertical-align: top;\n",
       "    }\n",
       "\n",
       "    .dataframe thead th {\n",
       "        text-align: right;\n",
       "    }\n",
       "</style>\n",
       "<table border=\"1\" class=\"dataframe\">\n",
       "  <thead>\n",
       "    <tr style=\"text-align: right;\">\n",
       "      <th></th>\n",
       "      <th>Date</th>\n",
       "      <th>Open</th>\n",
       "      <th>High</th>\n",
       "      <th>Low</th>\n",
       "      <th>Close</th>\n",
       "    </tr>\n",
       "  </thead>\n",
       "  <tbody>\n",
       "    <tr>\n",
       "      <th>0</th>\n",
       "      <td>2019-01-01</td>\n",
       "      <td>0.002319</td>\n",
       "      <td>0.002382</td>\n",
       "      <td>0.002246</td>\n",
       "      <td>0.002365</td>\n",
       "    </tr>\n",
       "    <tr>\n",
       "      <th>1</th>\n",
       "      <td>2019-01-02</td>\n",
       "      <td>0.002378</td>\n",
       "      <td>0.002407</td>\n",
       "      <td>0.002315</td>\n",
       "      <td>0.002354</td>\n",
       "    </tr>\n",
       "    <tr>\n",
       "      <th>2</th>\n",
       "      <td>2019-01-03</td>\n",
       "      <td>0.002358</td>\n",
       "      <td>0.002441</td>\n",
       "      <td>0.002268</td>\n",
       "      <td>0.002294</td>\n",
       "    </tr>\n",
       "    <tr>\n",
       "      <th>3</th>\n",
       "      <td>2019-01-04</td>\n",
       "      <td>0.002297</td>\n",
       "      <td>0.002331</td>\n",
       "      <td>0.002174</td>\n",
       "      <td>0.002270</td>\n",
       "    </tr>\n",
       "    <tr>\n",
       "      <th>4</th>\n",
       "      <td>2019-01-05</td>\n",
       "      <td>0.002292</td>\n",
       "      <td>0.002316</td>\n",
       "      <td>0.002212</td>\n",
       "      <td>0.002258</td>\n",
       "    </tr>\n",
       "  </tbody>\n",
       "</table>\n",
       "</div>"
      ],
      "text/plain": [
       "         Date      Open      High       Low     Close\n",
       "0  2019-01-01  0.002319  0.002382  0.002246  0.002365\n",
       "1  2019-01-02  0.002378  0.002407  0.002315  0.002354\n",
       "2  2019-01-03  0.002358  0.002441  0.002268  0.002294\n",
       "3  2019-01-04  0.002297  0.002331  0.002174  0.002270\n",
       "4  2019-01-05  0.002292  0.002316  0.002212  0.002258"
      ]
     },
     "execution_count": 6,
     "metadata": {},
     "output_type": "execute_result"
    }
   ],
   "source": [
    "df.head()"
   ]
  },
  {
   "cell_type": "code",
   "execution_count": 7,
   "id": "d51a0685",
   "metadata": {},
   "outputs": [],
   "source": [
    "df.index = df['Date']"
   ]
  },
  {
   "cell_type": "code",
   "execution_count": 8,
   "id": "fbab5b87",
   "metadata": {
    "scrolled": false
   },
   "outputs": [
    {
     "data": {
      "text/html": [
       "<div>\n",
       "<style scoped>\n",
       "    .dataframe tbody tr th:only-of-type {\n",
       "        vertical-align: middle;\n",
       "    }\n",
       "\n",
       "    .dataframe tbody tr th {\n",
       "        vertical-align: top;\n",
       "    }\n",
       "\n",
       "    .dataframe thead th {\n",
       "        text-align: right;\n",
       "    }\n",
       "</style>\n",
       "<table border=\"1\" class=\"dataframe\">\n",
       "  <thead>\n",
       "    <tr style=\"text-align: right;\">\n",
       "      <th></th>\n",
       "      <th>Date</th>\n",
       "      <th>Open</th>\n",
       "      <th>High</th>\n",
       "      <th>Low</th>\n",
       "      <th>Close</th>\n",
       "    </tr>\n",
       "    <tr>\n",
       "      <th>Date</th>\n",
       "      <th></th>\n",
       "      <th></th>\n",
       "      <th></th>\n",
       "      <th></th>\n",
       "      <th></th>\n",
       "    </tr>\n",
       "  </thead>\n",
       "  <tbody>\n",
       "    <tr>\n",
       "      <th>2019-01-01</th>\n",
       "      <td>2019-01-01</td>\n",
       "      <td>0.002319</td>\n",
       "      <td>0.002382</td>\n",
       "      <td>0.002246</td>\n",
       "      <td>0.002365</td>\n",
       "    </tr>\n",
       "    <tr>\n",
       "      <th>2019-01-02</th>\n",
       "      <td>2019-01-02</td>\n",
       "      <td>0.002378</td>\n",
       "      <td>0.002407</td>\n",
       "      <td>0.002315</td>\n",
       "      <td>0.002354</td>\n",
       "    </tr>\n",
       "    <tr>\n",
       "      <th>2019-01-03</th>\n",
       "      <td>2019-01-03</td>\n",
       "      <td>0.002358</td>\n",
       "      <td>0.002441</td>\n",
       "      <td>0.002268</td>\n",
       "      <td>0.002294</td>\n",
       "    </tr>\n",
       "    <tr>\n",
       "      <th>2019-01-04</th>\n",
       "      <td>2019-01-04</td>\n",
       "      <td>0.002297</td>\n",
       "      <td>0.002331</td>\n",
       "      <td>0.002174</td>\n",
       "      <td>0.002270</td>\n",
       "    </tr>\n",
       "    <tr>\n",
       "      <th>2019-01-05</th>\n",
       "      <td>2019-01-05</td>\n",
       "      <td>0.002292</td>\n",
       "      <td>0.002316</td>\n",
       "      <td>0.002212</td>\n",
       "      <td>0.002258</td>\n",
       "    </tr>\n",
       "  </tbody>\n",
       "</table>\n",
       "</div>"
      ],
      "text/plain": [
       "                  Date      Open      High       Low     Close\n",
       "Date                                                          \n",
       "2019-01-01  2019-01-01  0.002319  0.002382  0.002246  0.002365\n",
       "2019-01-02  2019-01-02  0.002378  0.002407  0.002315  0.002354\n",
       "2019-01-03  2019-01-03  0.002358  0.002441  0.002268  0.002294\n",
       "2019-01-04  2019-01-04  0.002297  0.002331  0.002174  0.002270\n",
       "2019-01-05  2019-01-05  0.002292  0.002316  0.002212  0.002258"
      ]
     },
     "execution_count": 8,
     "metadata": {},
     "output_type": "execute_result"
    }
   ],
   "source": [
    "df.head()"
   ]
  },
  {
   "cell_type": "code",
   "execution_count": 9,
   "id": "a6e4938c",
   "metadata": {},
   "outputs": [],
   "source": [
    "df.drop(columns=['Date','Open','High','Low'],inplace=True)"
   ]
  },
  {
   "cell_type": "code",
   "execution_count": 10,
   "id": "f4f83135",
   "metadata": {},
   "outputs": [
    {
     "data": {
      "text/html": [
       "<div>\n",
       "<style scoped>\n",
       "    .dataframe tbody tr th:only-of-type {\n",
       "        vertical-align: middle;\n",
       "    }\n",
       "\n",
       "    .dataframe tbody tr th {\n",
       "        vertical-align: top;\n",
       "    }\n",
       "\n",
       "    .dataframe thead th {\n",
       "        text-align: right;\n",
       "    }\n",
       "</style>\n",
       "<table border=\"1\" class=\"dataframe\">\n",
       "  <thead>\n",
       "    <tr style=\"text-align: right;\">\n",
       "      <th></th>\n",
       "      <th>Close</th>\n",
       "    </tr>\n",
       "    <tr>\n",
       "      <th>Date</th>\n",
       "      <th></th>\n",
       "    </tr>\n",
       "  </thead>\n",
       "  <tbody>\n",
       "    <tr>\n",
       "      <th>2019-01-01</th>\n",
       "      <td>0.002365</td>\n",
       "    </tr>\n",
       "    <tr>\n",
       "      <th>2019-01-02</th>\n",
       "      <td>0.002354</td>\n",
       "    </tr>\n",
       "    <tr>\n",
       "      <th>2019-01-03</th>\n",
       "      <td>0.002294</td>\n",
       "    </tr>\n",
       "    <tr>\n",
       "      <th>2019-01-04</th>\n",
       "      <td>0.002270</td>\n",
       "    </tr>\n",
       "    <tr>\n",
       "      <th>2019-01-05</th>\n",
       "      <td>0.002258</td>\n",
       "    </tr>\n",
       "  </tbody>\n",
       "</table>\n",
       "</div>"
      ],
      "text/plain": [
       "               Close\n",
       "Date                \n",
       "2019-01-01  0.002365\n",
       "2019-01-02  0.002354\n",
       "2019-01-03  0.002294\n",
       "2019-01-04  0.002270\n",
       "2019-01-05  0.002258"
      ]
     },
     "execution_count": 10,
     "metadata": {},
     "output_type": "execute_result"
    }
   ],
   "source": [
    "df.head()"
   ]
  },
  {
   "cell_type": "code",
   "execution_count": 11,
   "id": "8dfde5c9",
   "metadata": {},
   "outputs": [],
   "source": [
    "df.index = pd.to_datetime(df.index)"
   ]
  },
  {
   "cell_type": "code",
   "execution_count": 12,
   "id": "3af75b07",
   "metadata": {},
   "outputs": [
    {
     "data": {
      "image/png": "[encoded data removed]",
      "text/plain": [
       "<Figure size 1080x432 with 2 Axes>"
      ]
     },
     "metadata": {
      "needs_background": "light"
     },
     "output_type": "display_data"
    }
   ],
   "source": [
    "for feature in df[[\"Close\"]]:\n",
    "    plt.figure(1,figsize=(15,6))\n",
    "    plt.subplot(212)\n",
    "    plt.title(f\"Histogram of {str(feature)}\")\n",
    "    df[str(feature)].hist()\n",
    "    plt.subplot(211)\n",
    "    plt.title(f\"KDE of {str(feature)}\")\n",
    "    df[str(feature)].plot(kind=\"kde\")\n",
    "    plt.show()"
   ]
  },
  {
   "cell_type": "code",
   "execution_count": 13,
   "id": "20b7521a",
   "metadata": {},
   "outputs": [],
   "source": [
    "def mean_absolute_percentage_error(y_true,y_pred):\n",
    "    y_true,y_pred = np.array(y_true), np.array(y_pred)\n",
    "    return np.mean(np.abs((y_true-y_pred)/y_true))*100\n"
   ]
  },
  {
   "cell_type": "code",
   "execution_count": 14,
   "id": "34834d2f",
   "metadata": {},
   "outputs": [],
   "source": [
    "def time_series_evaluation_metric(y_true,y_pred):\n",
    "    '''\n",
    "    We calculate the following evaluation metrics:\n",
    "    \n",
    "    -MSE\n",
    "    -MAE\n",
    "    -RMSE\n",
    "    -MAPE\n",
    "    -R^2\n",
    "    \n",
    "    Args:\n",
    "    y_true: the real value \n",
    "    y_pred: the \n",
    "    \n",
    "    '''\n",
    "    \n",
    "    print(f'MSE is: {metrics.mean_squared_error(y_true,y_pred)}')\n",
    "    print(f'MAE is: {metrics.mean_absolute_error(y_true,y_pred)}')\n",
    "    print(f'RMSE is:{np.sqrt(metrics.mean_squared_error(y_true,y_pred))}')\n",
    "    print(f'MAPE is:{metrics.mean_absolute_percentage_error(y_true,y_pred)}')\n",
    "    print(f'R2 is:{metrics.r2_score}')"
   ]
  },
  {
   "cell_type": "code",
   "execution_count": 15,
   "id": "f1d2db88",
   "metadata": {},
   "outputs": [],
   "source": [
    "def Augmented_Dickey_Fuller_test(series, column_name):\n",
    "    '''\n",
    "    Args:\n",
    "    series():value of column\n",
    "    column_name:Name of the column\n",
    "    \n",
    "    return:\n",
    "    p-value    \n",
    "    \n",
    "    '''\n",
    "    print(f\"Result of dickey fuller test for:{column_name}\")\n",
    "    dftest= adfuller(series,autolag='AIC')\n",
    "    dfoutput = pd.Series(dftest[0:4],['Test Statistic','P-value','No lag Used','Number of obervation'])\n",
    "    \n",
    "    for key,value in dftest[4].items():\n",
    "        dfoutput['Critical value (%s)'%key] = value\n",
    "    print(dfoutput)\n",
    "    \n",
    "    \n",
    "    print(\"Conclusion:===>\")\n",
    "    if dftest[0] <= dftest[4]['5%']:\n",
    "\n",
    "        print(\"Reject the null hypothesis\")\n",
    "    else:\n",
    "        print(dftest[1])\n",
    "        print(\"Failed to reject the null hypothesis\")\n",
    "    \n",
    "    \n",
    "    "
   ]
  },
  {
   "cell_type": "code",
   "execution_count": 16,
   "id": "08a09476",
   "metadata": {},
   "outputs": [],
   "source": [
    "def cointegration_test(df):\n",
    "    '''test if there is long relationship between features'\n",
    "    (args) value of columns to be checked'\n",
    "    \n",
    "    returns:\n",
    "     '''\n",
    "    res = coint_johansen(df,-1,5)\n",
    "    d = {'0.90':0,'0.95':1,'0.99':2}\n",
    "    traces = res.lr1\n",
    "    cvts = res.cvt[:,d[str(1-0.05)]]\n",
    "    \n",
    "    def adjust(val,length=6):\n",
    "        return str(val).ljust(length)\n",
    "    \n",
    "    print('column name>Test stat >C(95%)=> signif\\n','--'*20)\n",
    "    for col,trace,cvt in zip(df.columns ,traces ,cvts ):\n",
    "        print(adjust(col),'>',adjust(round(trace,2),9),\">\",adjust(cvt,8),'=>',trace>cvt)\n",
    "        "
   ]
  },
  {
   "cell_type": "code",
   "execution_count": 17,
   "id": "5f2e1aba",
   "metadata": {},
   "outputs": [],
   "source": [
    "def inverse_diff(actual_df,df_pred):\n",
    "    \n",
    "    #fungsi ini digunakan untuk mengubah nilai y_prediction yg di train dengan dataset yang telah terdifferensiasi.\n",
    "    #dengan menambahkan setiap nilai y_prediction dengan nilai akhir dari dataset actual yg tidak di differensiasi.\n",
    "    #intinya adalah mengubah nilai y_prediction yg terdifferensiasi menjadi tidak terdifferensiasi.\n",
    "    df_res = df_pred.copy()\n",
    "    columns = actual_df.columns\n",
    "    \n",
    "    for col in columns:\n",
    "        result = actual_df[col].iloc[-1] + df_res.cumsum()\n",
    "        \n",
    "    return result"
   ]
  },
  {
   "cell_type": "markdown",
   "id": "f062679c",
   "metadata": {},
   "source": [
    "# check for stationary using ADF"
   ]
  },
  {
   "cell_type": "code",
   "execution_count": 18,
   "id": "bd2d200a",
   "metadata": {},
   "outputs": [
    {
     "name": "stdout",
     "output_type": "stream",
     "text": [
      "Result of dickey fuller test for:Close\n",
      "Test Statistic            -1.999680\n",
      "P-value                    0.286714\n",
      "No lag Used               23.000000\n",
      "Number of obervation    1193.000000\n",
      "Critical value (1%)       -3.435843\n",
      "Critical value (5%)       -2.863966\n",
      "Critical value (10%)      -2.568061\n",
      "dtype: float64\n",
      "Conclusion:===>\n",
      "0.2867136399446516\n",
      "Failed to reject the null hypothesis\n",
      "\n",
      "\n"
     ]
    }
   ],
   "source": [
    "for name,column in df[['Close']].iteritems():\n",
    "    Augmented_Dickey_Fuller_test(df[name],name)\n",
    "    print(\"\\n\")"
   ]
  },
  {
   "cell_type": "markdown",
   "id": "31baa7a0",
   "metadata": {},
   "source": [
    "# Check for stationary using KPSS"
   ]
  },
  {
   "cell_type": "code",
   "execution_count": 19,
   "id": "e40c4187",
   "metadata": {},
   "outputs": [],
   "source": [
    "def kpss_test(series, **kw):\n",
    "    statistic,p_value,n_lags,critical_values = kpss(series,regression=\"c\")\n",
    "    \n",
    "    print(f'KPSS statistic:{statistic}')\n",
    "    print(f'p-value:{p_value}')\n",
    "    print(f'num of lag used:{n_lags}')\n",
    "    print('Critical value')\n",
    "    \n",
    "    for key,value in critical_values.items():\n",
    "        print(f'{key}:{value}')\n",
    "    print(f'Result: The series is {\"not \" if p_value < 0.05 else \"\"}stationary')"
   ]
  },
  {
   "cell_type": "code",
   "execution_count": 20,
   "id": "841b7b0c",
   "metadata": {},
   "outputs": [
    {
     "name": "stdout",
     "output_type": "stream",
     "text": [
      "KPSS statistic:2.9292802091832564\n",
      "p-value:0.01\n",
      "num of lag used:23\n",
      "Critical value\n",
      "10%:0.347\n",
      "5%:0.463\n",
      "2.5%:0.574\n",
      "1%:0.739\n",
      "Result: The series is not stationary\n",
      "\n",
      "\n"
     ]
    }
   ],
   "source": [
    "for name,column in df[['Close']].iteritems():\n",
    "    kpss_test(df[name])\n",
    "    print('\\n')"
   ]
  },
  {
   "cell_type": "markdown",
   "id": "6b97d141",
   "metadata": {},
   "source": [
    "# Train test split"
   ]
  },
  {
   "cell_type": "markdown",
   "id": "922c3918",
   "metadata": {},
   "source": [
    "we need to split the train and test first, because we dont want the test data to have the inverse-difference."
   ]
  },
  {
   "cell_type": "code",
   "execution_count": 21,
   "id": "5120ddda",
   "metadata": {},
   "outputs": [],
   "source": [
    "X = df[['Close']]\n",
    "trainX,testX = time_train_test_split(X,test_size=60)"
   ]
  },
  {
   "cell_type": "code",
   "execution_count": 22,
   "id": "3948bd2c",
   "metadata": {},
   "outputs": [],
   "source": [
    "train_diff = trainX.diff()\n",
    "train_diff.dropna(inplace=True)"
   ]
  },
  {
   "cell_type": "code",
   "execution_count": 23,
   "id": "4e6e0be3",
   "metadata": {},
   "outputs": [
    {
     "data": {
      "text/html": [
       "<div>\n",
       "<style scoped>\n",
       "    .dataframe tbody tr th:only-of-type {\n",
       "        vertical-align: middle;\n",
       "    }\n",
       "\n",
       "    .dataframe tbody tr th {\n",
       "        vertical-align: top;\n",
       "    }\n",
       "\n",
       "    .dataframe thead th {\n",
       "        text-align: right;\n",
       "    }\n",
       "</style>\n",
       "<table border=\"1\" class=\"dataframe\">\n",
       "  <thead>\n",
       "    <tr style=\"text-align: right;\">\n",
       "      <th></th>\n",
       "      <th>Close</th>\n",
       "    </tr>\n",
       "    <tr>\n",
       "      <th>Date</th>\n",
       "      <th></th>\n",
       "    </tr>\n",
       "  </thead>\n",
       "  <tbody>\n",
       "    <tr>\n",
       "      <th>2019-01-02</th>\n",
       "      <td>-0.000010</td>\n",
       "    </tr>\n",
       "    <tr>\n",
       "      <th>2019-01-03</th>\n",
       "      <td>-0.000060</td>\n",
       "    </tr>\n",
       "    <tr>\n",
       "      <th>2019-01-04</th>\n",
       "      <td>-0.000025</td>\n",
       "    </tr>\n",
       "    <tr>\n",
       "      <th>2019-01-05</th>\n",
       "      <td>-0.000012</td>\n",
       "    </tr>\n",
       "    <tr>\n",
       "      <th>2019-01-06</th>\n",
       "      <td>0.000031</td>\n",
       "    </tr>\n",
       "    <tr>\n",
       "      <th>...</th>\n",
       "      <td>...</td>\n",
       "    </tr>\n",
       "    <tr>\n",
       "      <th>2022-02-26</th>\n",
       "      <td>-0.000140</td>\n",
       "    </tr>\n",
       "    <tr>\n",
       "      <th>2022-02-27</th>\n",
       "      <td>-0.004618</td>\n",
       "    </tr>\n",
       "    <tr>\n",
       "      <th>2022-02-28</th>\n",
       "      <td>0.010443</td>\n",
       "    </tr>\n",
       "    <tr>\n",
       "      <th>2022-03-01</th>\n",
       "      <td>0.000624</td>\n",
       "    </tr>\n",
       "    <tr>\n",
       "      <th>2022-03-02</th>\n",
       "      <td>-0.001017</td>\n",
       "    </tr>\n",
       "  </tbody>\n",
       "</table>\n",
       "<p>1156 rows × 1 columns</p>\n",
       "</div>"
      ],
      "text/plain": [
       "               Close\n",
       "Date                \n",
       "2019-01-02 -0.000010\n",
       "2019-01-03 -0.000060\n",
       "2019-01-04 -0.000025\n",
       "2019-01-05 -0.000012\n",
       "2019-01-06  0.000031\n",
       "...              ...\n",
       "2022-02-26 -0.000140\n",
       "2022-02-27 -0.004618\n",
       "2022-02-28  0.010443\n",
       "2022-03-01  0.000624\n",
       "2022-03-02 -0.001017\n",
       "\n",
       "[1156 rows x 1 columns]"
      ]
     },
     "execution_count": 23,
     "metadata": {},
     "output_type": "execute_result"
    }
   ],
   "source": [
    "train_diff"
   ]
  },
  {
   "cell_type": "code",
   "execution_count": 24,
   "id": "0416cc09",
   "metadata": {},
   "outputs": [
    {
     "data": {
      "text/plain": [
       "Close   -0.001017\n",
       "Name: 2022-03-02 00:00:00, dtype: float64"
      ]
     },
     "execution_count": 24,
     "metadata": {},
     "output_type": "execute_result"
    }
   ],
   "source": [
    "train_diff.iloc[-1]"
   ]
  },
  {
   "cell_type": "code",
   "execution_count": 25,
   "id": "8f0b8b1e",
   "metadata": {},
   "outputs": [
    {
     "name": "stdout",
     "output_type": "stream",
     "text": [
      "Result of dickey fuller test for:Close\n",
      "Test Statistic         -7.113611e+00\n",
      "P-value                 3.881660e-10\n",
      "No lag Used             2.300000e+01\n",
      "Number of obervation    1.132000e+03\n",
      "Critical value (1%)    -3.436140e+00\n",
      "Critical value (5%)    -2.864097e+00\n",
      "Critical value (10%)   -2.568131e+00\n",
      "dtype: float64\n",
      "Conclusion:===>\n",
      "Reject the null hypothesis\n",
      "\n",
      "\n"
     ]
    }
   ],
   "source": [
    "for name,column in train_diff.iteritems():\n",
    "    Augmented_Dickey_Fuller_test(train_diff[name],name)\n",
    "    print(\"\\n\")"
   ]
  },
  {
   "cell_type": "code",
   "execution_count": 26,
   "id": "1d4a7346",
   "metadata": {},
   "outputs": [
    {
     "name": "stdout",
     "output_type": "stream",
     "text": [
      "KPSS statistic:0.04496332693523283\n",
      "p-value:0.1\n",
      "num of lag used:23\n",
      "Critical value\n",
      "10%:0.347\n",
      "5%:0.463\n",
      "2.5%:0.574\n",
      "1%:0.739\n",
      "Result: The series is stationary\n",
      "\n",
      "\n"
     ]
    }
   ],
   "source": [
    "for name,column in train_diff.iteritems():\n",
    "    kpss_test(train_diff[name])\n",
    "    print(\"\\n\")"
   ]
  },
  {
   "cell_type": "markdown",
   "id": "7859f2f5",
   "metadata": {},
   "source": [
    "# Cointergration Test"
   ]
  },
  {
   "cell_type": "code",
   "execution_count": 27,
   "id": "b2b74144",
   "metadata": {},
   "outputs": [
    {
     "name": "stdout",
     "output_type": "stream",
     "text": [
      "column name>Test stat >C(95%)=> signif\n",
      " ----------------------------------------\n",
      "Close  > 272.36    > 4.1296   => True\n"
     ]
    }
   ],
   "source": [
    "cointegration_test(train_diff)"
   ]
  },
  {
   "cell_type": "markdown",
   "id": "7f1c991f",
   "metadata": {},
   "source": [
    "# SARIMA\n"
   ]
  },
  {
   "cell_type": "markdown",
   "id": "c88ee7fa",
   "metadata": {},
   "source": [
    "P(AR)\n",
    "q(MA)\n",
    "tr(trend)"
   ]
  },
  {
   "cell_type": "code",
   "execution_count": 28,
   "id": "db0d5a1d",
   "metadata": {},
   "outputs": [],
   "source": [
    "param_value = {'p':[1,2,3],'q':[1,2,3]}\n",
    "param_grid = list(ParameterGrid(param_value))"
   ]
  },
  {
   "cell_type": "code",
   "execution_count": 29,
   "id": "9a88acf6",
   "metadata": {},
   "outputs": [],
   "source": [
    "from statsmodels.tsa.statespace.sarimax import SARIMAX"
   ]
  },
  {
   "cell_type": "code",
   "execution_count": 30,
   "id": "1c43c30f",
   "metadata": {},
   "outputs": [],
   "source": [
    "df_SARIMAX = pd.DataFrame(columns=['p','q','aic'])\n",
    "\n",
    "\n",
    "for a,b in enumerate(param_grid):\n",
    "    p = b.get('p')\n",
    "    q = b.get('q')\n",
    "    d=1\n",
    "    model =  SARIMAX(train_diff,order=(p,d,q)).fit()\n",
    "    aic = model.aic\n",
    "    \n",
    "    df_SARIMAX = df_SARIMAX.append({'p':p,'q':q,'aic':aic},ignore_index=True)"
   ]
  },
  {
   "cell_type": "code",
   "execution_count": 31,
   "id": "6921941b",
   "metadata": {},
   "outputs": [
    {
     "data": {
      "text/html": [
       "<div>\n",
       "<style scoped>\n",
       "    .dataframe tbody tr th:only-of-type {\n",
       "        vertical-align: middle;\n",
       "    }\n",
       "\n",
       "    .dataframe tbody tr th {\n",
       "        vertical-align: top;\n",
       "    }\n",
       "\n",
       "    .dataframe thead th {\n",
       "        text-align: right;\n",
       "    }\n",
       "</style>\n",
       "<table border=\"1\" class=\"dataframe\">\n",
       "  <thead>\n",
       "    <tr style=\"text-align: right;\">\n",
       "      <th></th>\n",
       "      <th>p</th>\n",
       "      <th>q</th>\n",
       "      <th>aic</th>\n",
       "    </tr>\n",
       "  </thead>\n",
       "  <tbody>\n",
       "    <tr>\n",
       "      <th>0</th>\n",
       "      <td>1.0</td>\n",
       "      <td>1.0</td>\n",
       "      <td>-6399.104055</td>\n",
       "    </tr>\n",
       "    <tr>\n",
       "      <th>1</th>\n",
       "      <td>1.0</td>\n",
       "      <td>2.0</td>\n",
       "      <td>-6398.908263</td>\n",
       "    </tr>\n",
       "    <tr>\n",
       "      <th>2</th>\n",
       "      <td>1.0</td>\n",
       "      <td>3.0</td>\n",
       "      <td>-6399.339049</td>\n",
       "    </tr>\n",
       "    <tr>\n",
       "      <th>3</th>\n",
       "      <td>2.0</td>\n",
       "      <td>1.0</td>\n",
       "      <td>-6402.060565</td>\n",
       "    </tr>\n",
       "    <tr>\n",
       "      <th>4</th>\n",
       "      <td>2.0</td>\n",
       "      <td>2.0</td>\n",
       "      <td>-6403.900923</td>\n",
       "    </tr>\n",
       "    <tr>\n",
       "      <th>5</th>\n",
       "      <td>2.0</td>\n",
       "      <td>3.0</td>\n",
       "      <td>-6386.061926</td>\n",
       "    </tr>\n",
       "    <tr>\n",
       "      <th>6</th>\n",
       "      <td>3.0</td>\n",
       "      <td>1.0</td>\n",
       "      <td>-6409.812983</td>\n",
       "    </tr>\n",
       "    <tr>\n",
       "      <th>7</th>\n",
       "      <td>3.0</td>\n",
       "      <td>2.0</td>\n",
       "      <td>-6389.704719</td>\n",
       "    </tr>\n",
       "    <tr>\n",
       "      <th>8</th>\n",
       "      <td>3.0</td>\n",
       "      <td>3.0</td>\n",
       "      <td>-6407.230415</td>\n",
       "    </tr>\n",
       "  </tbody>\n",
       "</table>\n",
       "</div>"
      ],
      "text/plain": [
       "     p    q          aic\n",
       "0  1.0  1.0 -6399.104055\n",
       "1  1.0  2.0 -6398.908263\n",
       "2  1.0  3.0 -6399.339049\n",
       "3  2.0  1.0 -6402.060565\n",
       "4  2.0  2.0 -6403.900923\n",
       "5  2.0  3.0 -6386.061926\n",
       "6  3.0  1.0 -6409.812983\n",
       "7  3.0  2.0 -6389.704719\n",
       "8  3.0  3.0 -6407.230415"
      ]
     },
     "execution_count": 31,
     "metadata": {},
     "output_type": "execute_result"
    }
   ],
   "source": [
    "df_SARIMAX"
   ]
  },
  {
   "cell_type": "code",
   "execution_count": 32,
   "id": "8008cd1d",
   "metadata": {},
   "outputs": [],
   "source": [
    "best_sarimax = df_SARIMAX.sort_values(by=['aic'],ascending = True).head()"
   ]
  },
  {
   "cell_type": "code",
   "execution_count": 33,
   "id": "86f2c94a",
   "metadata": {},
   "outputs": [
    {
     "name": "stdout",
     "output_type": "stream",
     "text": [
      "AR : 3.0\n",
      "MA : 1.0\n"
     ]
    }
   ],
   "source": [
    "p_sarimax = best_sarimax['p'].iloc[0]\n",
    "q_sarimax = best_sarimax['q'].iloc[0]\n",
    "\n",
    "\n",
    "print(\"AR :\",p_sarimax)\n",
    "print(\"MA :\",q_sarimax)"
   ]
  },
  {
   "cell_type": "markdown",
   "id": "7bea7aa6",
   "metadata": {},
   "source": [
    "# Fit SARIMA"
   ]
  },
  {
   "cell_type": "code",
   "execution_count": 34,
   "id": "5a211d10",
   "metadata": {},
   "outputs": [],
   "source": [
    "import pickle\n",
    "import os"
   ]
  },
  {
   "cell_type": "code",
   "execution_count": 35,
   "id": "07801cbf",
   "metadata": {},
   "outputs": [
    {
     "name": "stdout",
     "output_type": "stream",
     "text": [
      "model being loaded\n"
     ]
    }
   ],
   "source": [
    "filename = 'saved_model/doge_sarima_model.sav'\n",
    "if os.path.exists(filename):\n",
    "    model = pickle.load(open(filename,'rb'))\n",
    "    print('model being loaded')\n",
    "    \n",
    "else:\n",
    "    \n",
    "    model = SARIMAX(train_diff[['Close']],order=(p_sarimax,1,q_sarimax)).fit(disp=True)\n",
    "    os.makedirs('saved_model',exist_ok=True)\n",
    "    save_file = 'saved_model/doge_sarima_model.sav'\n",
    "    pickle.dump(model, open(save_file, 'wb'))\n",
    "    print('saving the model')"
   ]
  },
  {
   "cell_type": "code",
   "execution_count": 36,
   "id": "1510670e",
   "metadata": {},
   "outputs": [],
   "source": [
    "y_pred = model.forecast(steps=len(testX))"
   ]
  },
  {
   "cell_type": "code",
   "execution_count": 37,
   "id": "bb61dd85",
   "metadata": {},
   "outputs": [
    {
     "data": {
      "text/plain": [
       "-0.00019834993212478687"
      ]
     },
     "execution_count": 37,
     "metadata": {},
     "output_type": "execute_result"
    }
   ],
   "source": [
    "y_pred[0]"
   ]
  },
  {
   "cell_type": "code",
   "execution_count": 38,
   "id": "25c4b59c",
   "metadata": {},
   "outputs": [],
   "source": [
    "result = inverse_diff(trainX,y_pred)"
   ]
  },
  {
   "cell_type": "code",
   "execution_count": 48,
   "id": "7c2af585",
   "metadata": {},
   "outputs": [
    {
     "name": "stdout",
     "output_type": "stream",
     "text": [
      "Evaluation metrics for Close\n",
      "MSE is: 0.00017505774591777752\n",
      "MAE is: 0.011403626917851312\n",
      "RMSE is:0.013230938965839784\n",
      "MAPE is:0.08595581506911501\n",
      "R2 is:<function r2_score at 0x000001C8CD201310>\n",
      "\n",
      "\n"
     ]
    }
   ],
   "source": [
    "print(f'Evaluation metrics for Close')\n",
    "time_series_evaluation_metric(testX[str('Close')] , result)\n",
    "print('\\n')"
   ]
  },
  {
   "cell_type": "code",
   "execution_count": 49,
   "id": "ca607283",
   "metadata": {
    "scrolled": false
   },
   "outputs": [
    {
     "data": {
      "image/png": "[encoded data removed]",
      "text/plain": [
       "<Figure size 1200x500 with 1 Axes>"
      ]
     },
     "metadata": {
      "needs_background": "light"
     },
     "output_type": "display_data"
    }
   ],
   "source": [
    "plt.figure(figsize=(12,5), dpi=100)\n",
    "plt.plot(trainX[str('Close')])\n",
    "plt.plot(testX[str('Close')])\n",
    "plt.plot(result,label='predicting')\n",
    "plt.xlabel(str('Close'))\n",
    "plt.show()"
   ]
  }
 ],
 "metadata": {
  "kernelspec": {
   "display_name": "Python 3 (ipykernel)",
   "language": "python",
   "name": "python3"
  },
  "language_info": {
   "codemirror_mode": {
    "name": "ipython",
    "version": 3
   },
   "file_extension": ".py",
   "mimetype": "text/x-python",
   "name": "python",
   "nbconvert_exporter": "python",
   "pygments_lexer": "ipython3",
   "version": "3.8.10"
  }
 },
 "nbformat": 4,
 "nbformat_minor": 5
}
