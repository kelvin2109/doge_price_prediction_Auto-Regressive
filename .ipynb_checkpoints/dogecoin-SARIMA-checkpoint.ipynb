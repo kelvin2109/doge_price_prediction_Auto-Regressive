{
 "cells": [
  {
   "cell_type": "code",
   "execution_count": 1,
   "id": "b42d73a6",
   "metadata": {},
   "outputs": [],
   "source": [
    "from statsmodels.tsa.stattools import adfuller\n",
    "from statsmodels.tsa.vector_ar.vecm import coint_johansen\n",
    "\n",
    "from pmdarima.model_selection import train_test_split as time_train_test_split\n",
    "from sklearn import metrics\n",
    "from sklearn.model_selection import ParameterGrid\n",
    "\n",
    "from statsmodels.tsa.api import VAR\n",
    "from statsmodels.tsa.statespace.varmax import VARMAX\n",
    "from pmdarima import auto_arima\n",
    "from scipy import stats\n",
    "\n",
    "import warnings\n",
    "warnings.filterwarnings(\"ignore\")"
   ]
  },
  {
   "cell_type": "code",
   "execution_count": 2,
   "id": "4bbc62ef",
   "metadata": {},
   "outputs": [],
   "source": [
    "import pandas as pd\n",
    "import numpy as np"
   ]
  },
  {
   "cell_type": "code",
   "execution_count": 3,
   "id": "0f468b58",
   "metadata": {},
   "outputs": [],
   "source": [
    "from statsmodels.tsa.stattools import kpss"
   ]
  },
  {
   "cell_type": "code",
   "execution_count": 4,
   "id": "8bd320b1",
   "metadata": {},
   "outputs": [],
   "source": [
    "import matplotlib.pyplot as plt\n",
    "%matplotlib inline"
   ]
  },
  {
   "cell_type": "code",
   "execution_count": 5,
   "id": "e2e422fe",
   "metadata": {},
   "outputs": [],
   "source": [
    "df = pd.read_csv('dataset/doge.csv')"
   ]
  },
  {
   "cell_type": "code",
   "execution_count": 6,
   "id": "86fb7cb4",
   "metadata": {},
   "outputs": [
    {
     "data": {
      "text/html": [
       "<div>\n",
       "<style scoped>\n",
       "    .dataframe tbody tr th:only-of-type {\n",
       "        vertical-align: middle;\n",
       "    }\n",
       "\n",
       "    .dataframe tbody tr th {\n",
       "        vertical-align: top;\n",
       "    }\n",
       "\n",
       "    .dataframe thead th {\n",
       "        text-align: right;\n",
       "    }\n",
       "</style>\n",
       "<table border=\"1\" class=\"dataframe\">\n",
       "  <thead>\n",
       "    <tr style=\"text-align: right;\">\n",
       "      <th></th>\n",
       "      <th>Date</th>\n",
       "      <th>Open</th>\n",
       "      <th>High</th>\n",
       "      <th>Low</th>\n",
       "      <th>Close</th>\n",
       "    </tr>\n",
       "  </thead>\n",
       "  <tbody>\n",
       "    <tr>\n",
       "      <th>0</th>\n",
       "      <td>2019-01-01</td>\n",
       "      <td>0.002319</td>\n",
       "      <td>0.002382</td>\n",
       "      <td>0.002246</td>\n",
       "      <td>0.002365</td>\n",
       "    </tr>\n",
       "    <tr>\n",
       "      <th>1</th>\n",
       "      <td>2019-01-02</td>\n",
       "      <td>0.002378</td>\n",
       "      <td>0.002407</td>\n",
       "      <td>0.002315</td>\n",
       "      <td>0.002354</td>\n",
       "    </tr>\n",
       "    <tr>\n",
       "      <th>2</th>\n",
       "      <td>2019-01-03</td>\n",
       "      <td>0.002358</td>\n",
       "      <td>0.002441</td>\n",
       "      <td>0.002268</td>\n",
       "      <td>0.002294</td>\n",
       "    </tr>\n",
       "    <tr>\n",
       "      <th>3</th>\n",
       "      <td>2019-01-04</td>\n",
       "      <td>0.002297</td>\n",
       "      <td>0.002331</td>\n",
       "      <td>0.002174</td>\n",
       "      <td>0.002270</td>\n",
       "    </tr>\n",
       "    <tr>\n",
       "      <th>4</th>\n",
       "      <td>2019-01-05</td>\n",
       "      <td>0.002292</td>\n",
       "      <td>0.002316</td>\n",
       "      <td>0.002212</td>\n",
       "      <td>0.002258</td>\n",
       "    </tr>\n",
       "  </tbody>\n",
       "</table>\n",
       "</div>"
      ],
      "text/plain": [
       "         Date      Open      High       Low     Close\n",
       "0  2019-01-01  0.002319  0.002382  0.002246  0.002365\n",
       "1  2019-01-02  0.002378  0.002407  0.002315  0.002354\n",
       "2  2019-01-03  0.002358  0.002441  0.002268  0.002294\n",
       "3  2019-01-04  0.002297  0.002331  0.002174  0.002270\n",
       "4  2019-01-05  0.002292  0.002316  0.002212  0.002258"
      ]
     },
     "execution_count": 6,
     "metadata": {},
     "output_type": "execute_result"
    }
   ],
   "source": [
    "df.head()"
   ]
  },
  {
   "cell_type": "code",
   "execution_count": 7,
   "id": "d51a0685",
   "metadata": {},
   "outputs": [],
   "source": [
    "df.index = df['Date']"
   ]
  },
  {
   "cell_type": "code",
   "execution_count": 8,
   "id": "fbab5b87",
   "metadata": {
    "scrolled": false
   },
   "outputs": [
    {
     "data": {
      "text/html": [
       "<div>\n",
       "<style scoped>\n",
       "    .dataframe tbody tr th:only-of-type {\n",
       "        vertical-align: middle;\n",
       "    }\n",
       "\n",
       "    .dataframe tbody tr th {\n",
       "        vertical-align: top;\n",
       "    }\n",
       "\n",
       "    .dataframe thead th {\n",
       "        text-align: right;\n",
       "    }\n",
       "</style>\n",
       "<table border=\"1\" class=\"dataframe\">\n",
       "  <thead>\n",
       "    <tr style=\"text-align: right;\">\n",
       "      <th></th>\n",
       "      <th>Date</th>\n",
       "      <th>Open</th>\n",
       "      <th>High</th>\n",
       "      <th>Low</th>\n",
       "      <th>Close</th>\n",
       "    </tr>\n",
       "    <tr>\n",
       "      <th>Date</th>\n",
       "      <th></th>\n",
       "      <th></th>\n",
       "      <th></th>\n",
       "      <th></th>\n",
       "      <th></th>\n",
       "    </tr>\n",
       "  </thead>\n",
       "  <tbody>\n",
       "    <tr>\n",
       "      <th>2019-01-01</th>\n",
       "      <td>2019-01-01</td>\n",
       "      <td>0.002319</td>\n",
       "      <td>0.002382</td>\n",
       "      <td>0.002246</td>\n",
       "      <td>0.002365</td>\n",
       "    </tr>\n",
       "    <tr>\n",
       "      <th>2019-01-02</th>\n",
       "      <td>2019-01-02</td>\n",
       "      <td>0.002378</td>\n",
       "      <td>0.002407</td>\n",
       "      <td>0.002315</td>\n",
       "      <td>0.002354</td>\n",
       "    </tr>\n",
       "    <tr>\n",
       "      <th>2019-01-03</th>\n",
       "      <td>2019-01-03</td>\n",
       "      <td>0.002358</td>\n",
       "      <td>0.002441</td>\n",
       "      <td>0.002268</td>\n",
       "      <td>0.002294</td>\n",
       "    </tr>\n",
       "    <tr>\n",
       "      <th>2019-01-04</th>\n",
       "      <td>2019-01-04</td>\n",
       "      <td>0.002297</td>\n",
       "      <td>0.002331</td>\n",
       "      <td>0.002174</td>\n",
       "      <td>0.002270</td>\n",
       "    </tr>\n",
       "    <tr>\n",
       "      <th>2019-01-05</th>\n",
       "      <td>2019-01-05</td>\n",
       "      <td>0.002292</td>\n",
       "      <td>0.002316</td>\n",
       "      <td>0.002212</td>\n",
       "      <td>0.002258</td>\n",
       "    </tr>\n",
       "  </tbody>\n",
       "</table>\n",
       "</div>"
      ],
      "text/plain": [
       "                  Date      Open      High       Low     Close\n",
       "Date                                                          \n",
       "2019-01-01  2019-01-01  0.002319  0.002382  0.002246  0.002365\n",
       "2019-01-02  2019-01-02  0.002378  0.002407  0.002315  0.002354\n",
       "2019-01-03  2019-01-03  0.002358  0.002441  0.002268  0.002294\n",
       "2019-01-04  2019-01-04  0.002297  0.002331  0.002174  0.002270\n",
       "2019-01-05  2019-01-05  0.002292  0.002316  0.002212  0.002258"
      ]
     },
     "execution_count": 8,
     "metadata": {},
     "output_type": "execute_result"
    }
   ],
   "source": [
    "df.head()"
   ]
  },
  {
   "cell_type": "code",
   "execution_count": 9,
   "id": "a6e4938c",
   "metadata": {},
   "outputs": [],
   "source": [
    "df.drop(columns=['Date','Open','High','Low'],inplace=True)"
   ]
  },
  {
   "cell_type": "code",
   "execution_count": 10,
   "id": "f4f83135",
   "metadata": {},
   "outputs": [
    {
     "data": {
      "text/html": [
       "<div>\n",
       "<style scoped>\n",
       "    .dataframe tbody tr th:only-of-type {\n",
       "        vertical-align: middle;\n",
       "    }\n",
       "\n",
       "    .dataframe tbody tr th {\n",
       "        vertical-align: top;\n",
       "    }\n",
       "\n",
       "    .dataframe thead th {\n",
       "        text-align: right;\n",
       "    }\n",
       "</style>\n",
       "<table border=\"1\" class=\"dataframe\">\n",
       "  <thead>\n",
       "    <tr style=\"text-align: right;\">\n",
       "      <th></th>\n",
       "      <th>Close</th>\n",
       "    </tr>\n",
       "    <tr>\n",
       "      <th>Date</th>\n",
       "      <th></th>\n",
       "    </tr>\n",
       "  </thead>\n",
       "  <tbody>\n",
       "    <tr>\n",
       "      <th>2019-01-01</th>\n",
       "      <td>0.002365</td>\n",
       "    </tr>\n",
       "    <tr>\n",
       "      <th>2019-01-02</th>\n",
       "      <td>0.002354</td>\n",
       "    </tr>\n",
       "    <tr>\n",
       "      <th>2019-01-03</th>\n",
       "      <td>0.002294</td>\n",
       "    </tr>\n",
       "    <tr>\n",
       "      <th>2019-01-04</th>\n",
       "      <td>0.002270</td>\n",
       "    </tr>\n",
       "    <tr>\n",
       "      <th>2019-01-05</th>\n",
       "      <td>0.002258</td>\n",
       "    </tr>\n",
       "  </tbody>\n",
       "</table>\n",
       "</div>"
      ],
      "text/plain": [
       "               Close\n",
       "Date                \n",
       "2019-01-01  0.002365\n",
       "2019-01-02  0.002354\n",
       "2019-01-03  0.002294\n",
       "2019-01-04  0.002270\n",
       "2019-01-05  0.002258"
      ]
     },
     "execution_count": 10,
     "metadata": {},
     "output_type": "execute_result"
    }
   ],
   "source": [
    "df.head()"
   ]
  },
  {
   "cell_type": "code",
   "execution_count": 11,
   "id": "3af75b07",
   "metadata": {},
   "outputs": [
    {
     "data": {
      "image/png": "[encoded data removed]",
      "text/plain": [
       "<Figure size 1080x432 with 2 Axes>"
      ]
     },
     "metadata": {
      "needs_background": "light"
     },
     "output_type": "display_data"
    }
   ],
   "source": [
    "for feature in df[[\"Close\"]]:\n",
    "    plt.figure(1,figsize=(15,6))\n",
    "    plt.subplot(212)\n",
    "    plt.title(f\"Histogram of {str(feature)}\")\n",
    "    df[str(feature)].hist()\n",
    "    plt.subplot(211)\n",
    "    plt.title(f\"KDE of {str(feature)}\")\n",
    "    df[str(feature)].plot(kind=\"kde\")\n",
    "    plt.show()"
   ]
  },
  {
   "cell_type": "code",
   "execution_count": 12,
   "id": "20b7521a",
   "metadata": {},
   "outputs": [],
   "source": [
    "def mean_absolute_percentage_error(y_true,y_pred):\n",
    "    y_true,y_pred = np.array(y_true), np.array(y_pred)\n",
    "    return np.mean(np.abs((y_true-y_pred)/y_true))*100\n"
   ]
  },
  {
   "cell_type": "code",
   "execution_count": 13,
   "id": "34834d2f",
   "metadata": {},
   "outputs": [],
   "source": [
    "def time_series_evaluation_metric(y_true,y_pred):\n",
    "    '''\n",
    "    We calculate the following evaluation metrics:\n",
    "    \n",
    "    -MSE\n",
    "    -MAE\n",
    "    -RMSE\n",
    "    -MAPE\n",
    "    -R^2\n",
    "    \n",
    "    Args:\n",
    "    y_true: the real value \n",
    "    y_pred: the \n",
    "    \n",
    "    '''\n",
    "    \n",
    "    print(f'MSE is: {metrics.mean_squared_error(y_true,y_pred)}')\n",
    "    print(f'MAE is: {metrics.mean_absolute_error(y_true,y_pred)}')\n",
    "    print(f'RMSE is:{np.sqrt(metrics.mean_squared_error(y_true,y_pred))}')\n",
    "    print(f'MAPE is:{metrics.mean_absolute_percentage_error(y_true,y_pred)}')\n",
    "    print(f'R2 is:{metrics.r2_score}')"
   ]
  },
  {
   "cell_type": "code",
   "execution_count": 14,
   "id": "f1d2db88",
   "metadata": {},
   "outputs": [],
   "source": [
    "def Augmented_Dickey_Fuller_test(series, column_name):\n",
    "    '''\n",
    "    Args:\n",
    "    series():value of column\n",
    "    column_name:Name of the column\n",
    "    \n",
    "    return:\n",
    "    p-value    \n",
    "    \n",
    "    '''\n",
    "    print(f\"Result of dickey fuller test for:{column_name}\")\n",
    "    dftest= adfuller(series,autolag='AIC')\n",
    "    dfoutput = pd.Series(dftest[0:4],['Test Statistic','P-value','No lag Used','Number of obervation'])\n",
    "    \n",
    "    for key,value in dftest[4].items():\n",
    "        dfoutput['Critical value (%s)'%key] = value\n",
    "    print(dfoutput)\n",
    "    \n",
    "    \n",
    "    print(\"Conclusion:===>\")\n",
    "    if dftest[0] <= dftest[4]['5%']:\n",
    "\n",
    "        print(\"Reject the null hypothesis\")\n",
    "    else:\n",
    "        print(dftest[1])\n",
    "        print(\"Failed to reject the null hypothesis\")\n",
    "    \n",
    "    \n",
    "    "
   ]
  },
  {
   "cell_type": "code",
   "execution_count": 15,
   "id": "08a09476",
   "metadata": {},
   "outputs": [],
   "source": [
    "def cointegration_test(df):\n",
    "    '''test if there is long relationship between features'\n",
    "    (args) value of columns to be checked'\n",
    "    \n",
    "    returns:\n",
    "     '''\n",
    "    res = coint_johansen(df,-1,5)\n",
    "    d = {'0.90':0,'0.95':1,'0.99':2}\n",
    "    traces = res.lr1\n",
    "    cvts = res.cvt[:,d[str(1-0.05)]]\n",
    "    \n",
    "    def adjust(val,length=6):\n",
    "        return str(val).ljust(length)\n",
    "    \n",
    "    print('column name>Test stat >C(95%)=> signif\\n','--'*20)\n",
    "    for col,trace,cvt in zip(df.columns ,traces ,cvts ):\n",
    "        print(adjust(col),'>',adjust(round(trace,2),9),\">\",adjust(cvt,8),'=>',trace>cvt)\n",
    "        "
   ]
  },
  {
   "cell_type": "code",
   "execution_count": 39,
   "id": "5f2e1aba",
   "metadata": {},
   "outputs": [],
   "source": [
    "def inverse_diff(actual_df,df_pred):\n",
    "    \n",
    "    #fungsi ini digunakan untuk mengubah nilai y_prediction yg di train dengan dataset yang telah terdifferensiasi.\n",
    "    #dengan menambahkan setiap nilai y_prediction dengan nilai akhir dari dataset actual yg tidak di differensiasi.\n",
    "    #intinya adalah mengubah nilai y_prediction yg terdifferensiasi menjadi tidak terdifferensiasi.\n",
    "    df_res = df_pred.copy()\n",
    "    columns = actual_df.columns\n",
    "    \n",
    "    for col in columns:\n",
    "        result = actual_df[col].iloc[-1] + df_res.cumsum()\n",
    "        \n",
    "    return result"
   ]
  },
  {
   "cell_type": "markdown",
   "id": "f062679c",
   "metadata": {},
   "source": [
    "# check for stationary using ADF"
   ]
  },
  {
   "cell_type": "code",
   "execution_count": 17,
   "id": "bd2d200a",
   "metadata": {},
   "outputs": [
    {
     "name": "stdout",
     "output_type": "stream",
     "text": [
      "Result of dickey fuller test for:Close\n",
      "Test Statistic            -1.999680\n",
      "P-value                    0.286714\n",
      "No lag Used               23.000000\n",
      "Number of obervation    1193.000000\n",
      "Critical value (1%)       -3.435843\n",
      "Critical value (5%)       -2.863966\n",
      "Critical value (10%)      -2.568061\n",
      "dtype: float64\n",
      "Conclusion:===>\n",
      "0.2867136399446606\n",
      "Failed to reject the null hypothesis\n",
      "\n",
      "\n"
     ]
    }
   ],
   "source": [
    "for name,column in df[['Close']].iteritems():\n",
    "    Augmented_Dickey_Fuller_test(df[name],name)\n",
    "    print(\"\\n\")"
   ]
  },
  {
   "cell_type": "markdown",
   "id": "31baa7a0",
   "metadata": {},
   "source": [
    "# Check for stationary using KPSS"
   ]
  },
  {
   "cell_type": "code",
   "execution_count": 18,
   "id": "e40c4187",
   "metadata": {},
   "outputs": [],
   "source": [
    "def kpss_test(series, **kw):\n",
    "    statistic,p_value,n_lags,critical_values = kpss(series,regression=\"c\")\n",
    "    \n",
    "    print(f'KPSS statistic:{statistic}')\n",
    "    print(f'p-value:{p_value}')\n",
    "    print(f'num of lag used:{n_lags}')\n",
    "    print('Critical value')\n",
    "    \n",
    "    for key,value in critical_values.items():\n",
    "        print(f'{key}:{value}')\n",
    "    print(f'Result: The series is {\"not \" if p_value < 0.05 else \"\"}stationary')"
   ]
  },
  {
   "cell_type": "code",
   "execution_count": 19,
   "id": "841b7b0c",
   "metadata": {},
   "outputs": [
    {
     "name": "stdout",
     "output_type": "stream",
     "text": [
      "KPSS statistic:2.9292802091832564\n",
      "p-value:0.01\n",
      "num of lag used:23\n",
      "Critical value\n",
      "10%:0.347\n",
      "5%:0.463\n",
      "2.5%:0.574\n",
      "1%:0.739\n",
      "Result: The series is not stationary\n",
      "\n",
      "\n"
     ]
    }
   ],
   "source": [
    "for name,column in df[['Close']].iteritems():\n",
    "    kpss_test(df[name])\n",
    "    print('\\n')"
   ]
  },
  {
   "cell_type": "markdown",
   "id": "6b97d141",
   "metadata": {},
   "source": [
    "# Train test split"
   ]
  },
  {
   "cell_type": "markdown",
   "id": "922c3918",
   "metadata": {},
   "source": [
    "we need to split the train and test first, because we dont want the test data to have the inverse-difference."
   ]
  },
  {
   "cell_type": "code",
   "execution_count": 20,
   "id": "5120ddda",
   "metadata": {},
   "outputs": [],
   "source": [
    "X = df[['Close']]\n",
    "trainX,testX = time_train_test_split(X,test_size=20)"
   ]
  },
  {
   "cell_type": "code",
   "execution_count": 21,
   "id": "3948bd2c",
   "metadata": {},
   "outputs": [],
   "source": [
    "train_diff = trainX.diff()\n",
    "train_diff.dropna(inplace=True)"
   ]
  },
  {
   "cell_type": "code",
   "execution_count": 22,
   "id": "4e6e0be3",
   "metadata": {},
   "outputs": [
    {
     "data": {
      "text/html": [
       "<div>\n",
       "<style scoped>\n",
       "    .dataframe tbody tr th:only-of-type {\n",
       "        vertical-align: middle;\n",
       "    }\n",
       "\n",
       "    .dataframe tbody tr th {\n",
       "        vertical-align: top;\n",
       "    }\n",
       "\n",
       "    .dataframe thead th {\n",
       "        text-align: right;\n",
       "    }\n",
       "</style>\n",
       "<table border=\"1\" class=\"dataframe\">\n",
       "  <thead>\n",
       "    <tr style=\"text-align: right;\">\n",
       "      <th></th>\n",
       "      <th>Close</th>\n",
       "    </tr>\n",
       "    <tr>\n",
       "      <th>Date</th>\n",
       "      <th></th>\n",
       "    </tr>\n",
       "  </thead>\n",
       "  <tbody>\n",
       "    <tr>\n",
       "      <th>2019-01-02</th>\n",
       "      <td>-0.000010</td>\n",
       "    </tr>\n",
       "    <tr>\n",
       "      <th>2019-01-03</th>\n",
       "      <td>-0.000060</td>\n",
       "    </tr>\n",
       "    <tr>\n",
       "      <th>2019-01-04</th>\n",
       "      <td>-0.000025</td>\n",
       "    </tr>\n",
       "    <tr>\n",
       "      <th>2019-01-05</th>\n",
       "      <td>-0.000012</td>\n",
       "    </tr>\n",
       "    <tr>\n",
       "      <th>2019-01-06</th>\n",
       "      <td>0.000031</td>\n",
       "    </tr>\n",
       "    <tr>\n",
       "      <th>...</th>\n",
       "      <td>...</td>\n",
       "    </tr>\n",
       "    <tr>\n",
       "      <th>2022-04-07</th>\n",
       "      <td>0.002596</td>\n",
       "    </tr>\n",
       "    <tr>\n",
       "      <th>2022-04-08</th>\n",
       "      <td>-0.003309</td>\n",
       "    </tr>\n",
       "    <tr>\n",
       "      <th>2022-04-09</th>\n",
       "      <td>0.001685</td>\n",
       "    </tr>\n",
       "    <tr>\n",
       "      <th>2022-04-10</th>\n",
       "      <td>0.003370</td>\n",
       "    </tr>\n",
       "    <tr>\n",
       "      <th>2022-04-11</th>\n",
       "      <td>-0.013708</td>\n",
       "    </tr>\n",
       "  </tbody>\n",
       "</table>\n",
       "<p>1196 rows × 1 columns</p>\n",
       "</div>"
      ],
      "text/plain": [
       "               Close\n",
       "Date                \n",
       "2019-01-02 -0.000010\n",
       "2019-01-03 -0.000060\n",
       "2019-01-04 -0.000025\n",
       "2019-01-05 -0.000012\n",
       "2019-01-06  0.000031\n",
       "...              ...\n",
       "2022-04-07  0.002596\n",
       "2022-04-08 -0.003309\n",
       "2022-04-09  0.001685\n",
       "2022-04-10  0.003370\n",
       "2022-04-11 -0.013708\n",
       "\n",
       "[1196 rows x 1 columns]"
      ]
     },
     "execution_count": 22,
     "metadata": {},
     "output_type": "execute_result"
    }
   ],
   "source": [
    "train_diff"
   ]
  },
  {
   "cell_type": "code",
   "execution_count": 23,
   "id": "0416cc09",
   "metadata": {},
   "outputs": [
    {
     "data": {
      "text/plain": [
       "Close   -0.013708\n",
       "Name: 2022-04-11, dtype: float64"
      ]
     },
     "execution_count": 23,
     "metadata": {},
     "output_type": "execute_result"
    }
   ],
   "source": [
    "train_diff.iloc[-1]"
   ]
  },
  {
   "cell_type": "code",
   "execution_count": 24,
   "id": "8f0b8b1e",
   "metadata": {},
   "outputs": [
    {
     "name": "stdout",
     "output_type": "stream",
     "text": [
      "Result of dickey fuller test for:Close\n",
      "Test Statistic         -7.237551e+00\n",
      "P-value                 1.921853e-10\n",
      "No lag Used             2.300000e+01\n",
      "Number of obervation    1.172000e+03\n",
      "Critical value (1%)    -3.435942e+00\n",
      "Critical value (5%)    -2.864009e+00\n",
      "Critical value (10%)   -2.568085e+00\n",
      "dtype: float64\n",
      "Conclusion:===>\n",
      "Reject the null hypothesis\n",
      "\n",
      "\n"
     ]
    }
   ],
   "source": [
    "for name,column in train_diff.iteritems():\n",
    "    Augmented_Dickey_Fuller_test(train_diff[name],name)\n",
    "    print(\"\\n\")"
   ]
  },
  {
   "cell_type": "code",
   "execution_count": 25,
   "id": "1d4a7346",
   "metadata": {},
   "outputs": [
    {
     "name": "stdout",
     "output_type": "stream",
     "text": [
      "KPSS statistic:0.043802282460210056\n",
      "p-value:0.1\n",
      "num of lag used:23\n",
      "Critical value\n",
      "10%:0.347\n",
      "5%:0.463\n",
      "2.5%:0.574\n",
      "1%:0.739\n",
      "Result: The series is stationary\n",
      "\n",
      "\n"
     ]
    }
   ],
   "source": [
    "for name,column in train_diff.iteritems():\n",
    "    kpss_test(train_diff[name])\n",
    "    print(\"\\n\")"
   ]
  },
  {
   "cell_type": "markdown",
   "id": "7859f2f5",
   "metadata": {},
   "source": [
    "# Cointergration Test"
   ]
  },
  {
   "cell_type": "code",
   "execution_count": 26,
   "id": "b2b74144",
   "metadata": {},
   "outputs": [
    {
     "name": "stdout",
     "output_type": "stream",
     "text": [
      "column name>Test stat >C(95%)=> signif\n",
      " ----------------------------------------\n",
      "Close  > 281.02    > 4.1296   => True\n"
     ]
    }
   ],
   "source": [
    "cointegration_test(train_diff)"
   ]
  },
  {
   "cell_type": "markdown",
   "id": "7f1c991f",
   "metadata": {},
   "source": [
    "# SARIMA\n"
   ]
  },
  {
   "cell_type": "markdown",
   "id": "c88ee7fa",
   "metadata": {},
   "source": [
    "P(AR)\n",
    "q(MA)\n",
    "tr(trend)"
   ]
  },
  {
   "cell_type": "code",
   "execution_count": 27,
   "id": "db0d5a1d",
   "metadata": {},
   "outputs": [],
   "source": [
    "param_value = {'p':[1,2,3],'q':[1,2,3]}\n",
    "param_grid = list(ParameterGrid(param_value))"
   ]
  },
  {
   "cell_type": "code",
   "execution_count": 28,
   "id": "9a88acf6",
   "metadata": {},
   "outputs": [],
   "source": [
    "from statsmodels.tsa.statespace.sarimax import SARIMAX"
   ]
  },
  {
   "cell_type": "code",
   "execution_count": 29,
   "id": "1c43c30f",
   "metadata": {},
   "outputs": [],
   "source": [
    "df_SARIMAX = pd.DataFrame(columns=['p','q','aic'])\n",
    "\n",
    "\n",
    "for a,b in enumerate(param_grid):\n",
    "    p = b.get('p')\n",
    "    q = b.get('q')\n",
    "    d=1\n",
    "    model =  SARIMAX(train_diff,order=(p,d,q)).fit()\n",
    "    aic = model.aic\n",
    "    \n",
    "    df_SARIMAX = df_SARIMAX.append({'p':p,'q':q,'aic':aic},ignore_index=True)"
   ]
  },
  {
   "cell_type": "code",
   "execution_count": 30,
   "id": "6921941b",
   "metadata": {},
   "outputs": [
    {
     "data": {
      "text/html": [
       "<div>\n",
       "<style scoped>\n",
       "    .dataframe tbody tr th:only-of-type {\n",
       "        vertical-align: middle;\n",
       "    }\n",
       "\n",
       "    .dataframe tbody tr th {\n",
       "        vertical-align: top;\n",
       "    }\n",
       "\n",
       "    .dataframe thead th {\n",
       "        text-align: right;\n",
       "    }\n",
       "</style>\n",
       "<table border=\"1\" class=\"dataframe\">\n",
       "  <thead>\n",
       "    <tr style=\"text-align: right;\">\n",
       "      <th></th>\n",
       "      <th>p</th>\n",
       "      <th>q</th>\n",
       "      <th>aic</th>\n",
       "    </tr>\n",
       "  </thead>\n",
       "  <tbody>\n",
       "    <tr>\n",
       "      <th>0</th>\n",
       "      <td>1.0</td>\n",
       "      <td>1.0</td>\n",
       "      <td>-6652.128015</td>\n",
       "    </tr>\n",
       "    <tr>\n",
       "      <th>1</th>\n",
       "      <td>1.0</td>\n",
       "      <td>2.0</td>\n",
       "      <td>-6639.107164</td>\n",
       "    </tr>\n",
       "    <tr>\n",
       "      <th>2</th>\n",
       "      <td>1.0</td>\n",
       "      <td>3.0</td>\n",
       "      <td>-6652.293719</td>\n",
       "    </tr>\n",
       "    <tr>\n",
       "      <th>3</th>\n",
       "      <td>2.0</td>\n",
       "      <td>1.0</td>\n",
       "      <td>-6655.233987</td>\n",
       "    </tr>\n",
       "    <tr>\n",
       "      <th>4</th>\n",
       "      <td>2.0</td>\n",
       "      <td>2.0</td>\n",
       "      <td>-6657.151736</td>\n",
       "    </tr>\n",
       "    <tr>\n",
       "      <th>5</th>\n",
       "      <td>2.0</td>\n",
       "      <td>3.0</td>\n",
       "      <td>-6638.396074</td>\n",
       "    </tr>\n",
       "    <tr>\n",
       "      <th>6</th>\n",
       "      <td>3.0</td>\n",
       "      <td>1.0</td>\n",
       "      <td>-6663.587753</td>\n",
       "    </tr>\n",
       "    <tr>\n",
       "      <th>7</th>\n",
       "      <td>3.0</td>\n",
       "      <td>2.0</td>\n",
       "      <td>-6590.077332</td>\n",
       "    </tr>\n",
       "    <tr>\n",
       "      <th>8</th>\n",
       "      <td>3.0</td>\n",
       "      <td>3.0</td>\n",
       "      <td>-6660.728986</td>\n",
       "    </tr>\n",
       "  </tbody>\n",
       "</table>\n",
       "</div>"
      ],
      "text/plain": [
       "     p    q          aic\n",
       "0  1.0  1.0 -6652.128015\n",
       "1  1.0  2.0 -6639.107164\n",
       "2  1.0  3.0 -6652.293719\n",
       "3  2.0  1.0 -6655.233987\n",
       "4  2.0  2.0 -6657.151736\n",
       "5  2.0  3.0 -6638.396074\n",
       "6  3.0  1.0 -6663.587753\n",
       "7  3.0  2.0 -6590.077332\n",
       "8  3.0  3.0 -6660.728986"
      ]
     },
     "execution_count": 30,
     "metadata": {},
     "output_type": "execute_result"
    }
   ],
   "source": [
    "df_SARIMAX"
   ]
  },
  {
   "cell_type": "code",
   "execution_count": 31,
   "id": "8008cd1d",
   "metadata": {},
   "outputs": [],
   "source": [
    "best_sarimax = df_SARIMAX.sort_values(by=['aic'],ascending = True).head()"
   ]
  },
  {
   "cell_type": "code",
   "execution_count": 32,
   "id": "86f2c94a",
   "metadata": {},
   "outputs": [
    {
     "name": "stdout",
     "output_type": "stream",
     "text": [
      "AR : 3.0\n",
      "MA : 1.0\n"
     ]
    }
   ],
   "source": [
    "p_sarimax = best_sarimax['p'].iloc[0]\n",
    "q_sarimax = best_sarimax['q'].iloc[0]\n",
    "\n",
    "\n",
    "print(\"AR :\",p_sarimax)\n",
    "print(\"MA :\",q_sarimax)"
   ]
  },
  {
   "cell_type": "markdown",
   "id": "7bea7aa6",
   "metadata": {},
   "source": [
    "# Fit SARIMA"
   ]
  },
  {
   "cell_type": "code",
   "execution_count": 33,
   "id": "5a211d10",
   "metadata": {},
   "outputs": [],
   "source": [
    "import pickle\n",
    "import os"
   ]
  },
  {
   "cell_type": "code",
   "execution_count": 34,
   "id": "07801cbf",
   "metadata": {},
   "outputs": [
    {
     "name": "stdout",
     "output_type": "stream",
     "text": [
      "model being loaded\n"
     ]
    }
   ],
   "source": [
    "filename = 'saved_model/doge_sarima_model.sav'\n",
    "if os.path.exists(filename):\n",
    "    model = pickle.load(open(filename,'rb'))\n",
    "    print('model being loaded')\n",
    "    \n",
    "else:\n",
    "    \n",
    "    model = SARIMAX(train_diff[['Close']],order=(p_sarimax,1,q_sarimax)).fit(disp=True)\n",
    "    os.makedirs('saved_model',exist_ok=True)\n",
    "    save_file = 'saved_model/doge_sarima_model.sav'\n",
    "    pickle.dump(model, open(save_file, 'wb'))\n",
    "    print('saving the model')"
   ]
  },
  {
   "cell_type": "code",
   "execution_count": 35,
   "id": "1510670e",
   "metadata": {},
   "outputs": [],
   "source": [
    "y_pred = model.forecast(steps=len(testX))"
   ]
  },
  {
   "cell_type": "code",
   "execution_count": 38,
   "id": "4e55e49c",
   "metadata": {},
   "outputs": [
    {
     "data": {
      "text/plain": [
       "0.002169421290789706"
      ]
     },
     "execution_count": 38,
     "metadata": {},
     "output_type": "execute_result"
    }
   ],
   "source": [
    "y_pred[0]"
   ]
  },
  {
   "cell_type": "code",
   "execution_count": 40,
   "id": "25c4b59c",
   "metadata": {},
   "outputs": [],
   "source": [
    "result = inverse_diff(trainX,y_pred)"
   ]
  },
  {
   "cell_type": "code",
   "execution_count": 41,
   "id": "df959815",
   "metadata": {},
   "outputs": [
    {
     "data": {
      "text/plain": [
       "2022-04-12    0.136147\n",
       "2022-04-13    0.135205\n",
       "2022-04-14    0.134251\n",
       "2022-04-15    0.134551\n",
       "2022-04-16    0.134402\n",
       "2022-04-17    0.134402\n",
       "2022-04-18    0.134468\n",
       "2022-04-19    0.134494\n",
       "2022-04-20    0.134545\n",
       "2022-04-21    0.134595\n",
       "2022-04-22    0.134644\n",
       "2022-04-23    0.134695\n",
       "2022-04-24    0.134746\n",
       "2022-04-25    0.134797\n",
       "2022-04-26    0.134848\n",
       "2022-04-27    0.134899\n",
       "2022-04-28    0.134950\n",
       "2022-04-29    0.135001\n",
       "2022-04-30    0.135052\n",
       "2022-05-01    0.135103\n",
       "Freq: D, Name: predicted_mean, dtype: float64"
      ]
     },
     "execution_count": 41,
     "metadata": {},
     "output_type": "execute_result"
    }
   ],
   "source": [
    "result"
   ]
  },
  {
   "cell_type": "code",
   "execution_count": 43,
   "id": "7c2af585",
   "metadata": {},
   "outputs": [
    {
     "name": "stdout",
     "output_type": "stream",
     "text": [
      "Evaluation metrics for Close\n",
      "MSE is: 6.086863353082515e-05\n",
      "MAE is: 0.00592513454877158\n",
      "RMSE is:0.007801835266834666\n",
      "MAPE is:0.04165279776134319\n",
      "R2 is:<function r2_score at 0x000001488416FDC0>\n",
      "\n",
      "\n"
     ]
    }
   ],
   "source": [
    "for i in ['Close']:\n",
    "    print(f'Evaluation metrics for {i}')\n",
    "    time_series_evaluation_metric(testX[str(i)] , result)\n",
    "    print('\\n')"
   ]
  },
  {
   "cell_type": "code",
   "execution_count": 45,
   "id": "ca607283",
   "metadata": {
    "scrolled": false
   },
   "outputs": [
    {
     "ename": "TypeError",
     "evalue": "tzinfo argument must be None or of a tzinfo subclass, not type 'UnitData'",
     "output_type": "error",
     "traceback": [
      "\u001b[1;31m---------------------------------------------------------------------------\u001b[0m",
      "\u001b[1;31mTypeError\u001b[0m                                 Traceback (most recent call last)",
      "Input \u001b[1;32mIn [45]\u001b[0m, in \u001b[0;36m<cell line: 1>\u001b[1;34m()\u001b[0m\n\u001b[0;32m      5\u001b[0m plt\u001b[38;5;241m.\u001b[39mplot(result,label\u001b[38;5;241m=\u001b[39m\u001b[38;5;124m'\u001b[39m\u001b[38;5;124mpredicting\u001b[39m\u001b[38;5;124m'\u001b[39m)\n\u001b[0;32m      6\u001b[0m plt\u001b[38;5;241m.\u001b[39mxlabel(\u001b[38;5;28mstr\u001b[39m(i))\n\u001b[1;32m----> 7\u001b[0m \u001b[43mplt\u001b[49m\u001b[38;5;241;43m.\u001b[39;49m\u001b[43mshow\u001b[49m\u001b[43m(\u001b[49m\u001b[43m)\u001b[49m\n",
      "File \u001b[1;32m~\\anaconda3\\envs\\data-scientist\\lib\\site-packages\\matplotlib\\pyplot.py:368\u001b[0m, in \u001b[0;36mshow\u001b[1;34m(*args, **kwargs)\u001b[0m\n\u001b[0;32m    324\u001b[0m \u001b[38;5;124;03m\"\"\"\u001b[39;00m\n\u001b[0;32m    325\u001b[0m \u001b[38;5;124;03mDisplay all open figures.\u001b[39;00m\n\u001b[0;32m    326\u001b[0m \n\u001b[1;32m   (...)\u001b[0m\n\u001b[0;32m    365\u001b[0m \u001b[38;5;124;03mexplicitly there.\u001b[39;00m\n\u001b[0;32m    366\u001b[0m \u001b[38;5;124;03m\"\"\"\u001b[39;00m\n\u001b[0;32m    367\u001b[0m _warn_if_gui_out_of_main_thread()\n\u001b[1;32m--> 368\u001b[0m \u001b[38;5;28;01mreturn\u001b[39;00m \u001b[43m_backend_mod\u001b[49m\u001b[38;5;241;43m.\u001b[39;49m\u001b[43mshow\u001b[49m\u001b[43m(\u001b[49m\u001b[38;5;241;43m*\u001b[39;49m\u001b[43margs\u001b[49m\u001b[43m,\u001b[49m\u001b[43m \u001b[49m\u001b[38;5;241;43m*\u001b[39;49m\u001b[38;5;241;43m*\u001b[39;49m\u001b[43mkwargs\u001b[49m\u001b[43m)\u001b[49m\n",
      "File \u001b[1;32m~\\anaconda3\\envs\\data-scientist\\lib\\site-packages\\matplotlib_inline\\backend_inline.py:43\u001b[0m, in \u001b[0;36mshow\u001b[1;34m(close, block)\u001b[0m\n\u001b[0;32m     39\u001b[0m \u001b[38;5;28;01mtry\u001b[39;00m:\n\u001b[0;32m     40\u001b[0m     \u001b[38;5;28;01mfor\u001b[39;00m figure_manager \u001b[38;5;129;01min\u001b[39;00m Gcf\u001b[38;5;241m.\u001b[39mget_all_fig_managers():\n\u001b[0;32m     41\u001b[0m         display(\n\u001b[0;32m     42\u001b[0m             figure_manager\u001b[38;5;241m.\u001b[39mcanvas\u001b[38;5;241m.\u001b[39mfigure,\n\u001b[1;32m---> 43\u001b[0m             metadata\u001b[38;5;241m=\u001b[39m\u001b[43m_fetch_figure_metadata\u001b[49m\u001b[43m(\u001b[49m\u001b[43mfigure_manager\u001b[49m\u001b[38;5;241;43m.\u001b[39;49m\u001b[43mcanvas\u001b[49m\u001b[38;5;241;43m.\u001b[39;49m\u001b[43mfigure\u001b[49m\u001b[43m)\u001b[49m\n\u001b[0;32m     44\u001b[0m         )\n\u001b[0;32m     45\u001b[0m \u001b[38;5;28;01mfinally\u001b[39;00m:\n\u001b[0;32m     46\u001b[0m     show\u001b[38;5;241m.\u001b[39m_to_draw \u001b[38;5;241m=\u001b[39m []\n",
      "File \u001b[1;32m~\\anaconda3\\envs\\data-scientist\\lib\\site-packages\\matplotlib_inline\\backend_inline.py:231\u001b[0m, in \u001b[0;36m_fetch_figure_metadata\u001b[1;34m(fig)\u001b[0m\n\u001b[0;32m    228\u001b[0m \u001b[38;5;66;03m# determine if a background is needed for legibility\u001b[39;00m\n\u001b[0;32m    229\u001b[0m \u001b[38;5;28;01mif\u001b[39;00m _is_transparent(fig\u001b[38;5;241m.\u001b[39mget_facecolor()):\n\u001b[0;32m    230\u001b[0m     \u001b[38;5;66;03m# the background is transparent\u001b[39;00m\n\u001b[1;32m--> 231\u001b[0m     ticksLight \u001b[38;5;241m=\u001b[39m _is_light([label\u001b[38;5;241m.\u001b[39mget_color()\n\u001b[0;32m    232\u001b[0m                             \u001b[38;5;28;01mfor\u001b[39;00m axes \u001b[38;5;129;01min\u001b[39;00m fig\u001b[38;5;241m.\u001b[39maxes\n\u001b[0;32m    233\u001b[0m                             \u001b[38;5;28;01mfor\u001b[39;00m axis \u001b[38;5;129;01min\u001b[39;00m (axes\u001b[38;5;241m.\u001b[39mxaxis, axes\u001b[38;5;241m.\u001b[39myaxis)\n\u001b[0;32m    234\u001b[0m                             \u001b[38;5;28;01mfor\u001b[39;00m label \u001b[38;5;129;01min\u001b[39;00m axis\u001b[38;5;241m.\u001b[39mget_ticklabels()])\n\u001b[0;32m    235\u001b[0m     \u001b[38;5;28;01mif\u001b[39;00m ticksLight\u001b[38;5;241m.\u001b[39msize \u001b[38;5;129;01mand\u001b[39;00m (ticksLight \u001b[38;5;241m==\u001b[39m ticksLight[\u001b[38;5;241m0\u001b[39m])\u001b[38;5;241m.\u001b[39mall():\n\u001b[0;32m    236\u001b[0m         \u001b[38;5;66;03m# there are one or more tick labels, all with the same lightness\u001b[39;00m\n\u001b[0;32m    237\u001b[0m         \u001b[38;5;28;01mreturn\u001b[39;00m {\u001b[38;5;124m'\u001b[39m\u001b[38;5;124mneeds_background\u001b[39m\u001b[38;5;124m'\u001b[39m: \u001b[38;5;124m'\u001b[39m\u001b[38;5;124mdark\u001b[39m\u001b[38;5;124m'\u001b[39m \u001b[38;5;28;01mif\u001b[39;00m ticksLight[\u001b[38;5;241m0\u001b[39m] \u001b[38;5;28;01melse\u001b[39;00m \u001b[38;5;124m'\u001b[39m\u001b[38;5;124mlight\u001b[39m\u001b[38;5;124m'\u001b[39m}\n",
      "File \u001b[1;32m~\\anaconda3\\envs\\data-scientist\\lib\\site-packages\\matplotlib_inline\\backend_inline.py:234\u001b[0m, in \u001b[0;36m<listcomp>\u001b[1;34m(.0)\u001b[0m\n\u001b[0;32m    228\u001b[0m \u001b[38;5;66;03m# determine if a background is needed for legibility\u001b[39;00m\n\u001b[0;32m    229\u001b[0m \u001b[38;5;28;01mif\u001b[39;00m _is_transparent(fig\u001b[38;5;241m.\u001b[39mget_facecolor()):\n\u001b[0;32m    230\u001b[0m     \u001b[38;5;66;03m# the background is transparent\u001b[39;00m\n\u001b[0;32m    231\u001b[0m     ticksLight \u001b[38;5;241m=\u001b[39m _is_light([label\u001b[38;5;241m.\u001b[39mget_color()\n\u001b[0;32m    232\u001b[0m                             \u001b[38;5;28;01mfor\u001b[39;00m axes \u001b[38;5;129;01min\u001b[39;00m fig\u001b[38;5;241m.\u001b[39maxes\n\u001b[0;32m    233\u001b[0m                             \u001b[38;5;28;01mfor\u001b[39;00m axis \u001b[38;5;129;01min\u001b[39;00m (axes\u001b[38;5;241m.\u001b[39mxaxis, axes\u001b[38;5;241m.\u001b[39myaxis)\n\u001b[1;32m--> 234\u001b[0m                             \u001b[38;5;28;01mfor\u001b[39;00m label \u001b[38;5;129;01min\u001b[39;00m \u001b[43maxis\u001b[49m\u001b[38;5;241;43m.\u001b[39;49m\u001b[43mget_ticklabels\u001b[49m\u001b[43m(\u001b[49m\u001b[43m)\u001b[49m])\n\u001b[0;32m    235\u001b[0m     \u001b[38;5;28;01mif\u001b[39;00m ticksLight\u001b[38;5;241m.\u001b[39msize \u001b[38;5;129;01mand\u001b[39;00m (ticksLight \u001b[38;5;241m==\u001b[39m ticksLight[\u001b[38;5;241m0\u001b[39m])\u001b[38;5;241m.\u001b[39mall():\n\u001b[0;32m    236\u001b[0m         \u001b[38;5;66;03m# there are one or more tick labels, all with the same lightness\u001b[39;00m\n\u001b[0;32m    237\u001b[0m         \u001b[38;5;28;01mreturn\u001b[39;00m {\u001b[38;5;124m'\u001b[39m\u001b[38;5;124mneeds_background\u001b[39m\u001b[38;5;124m'\u001b[39m: \u001b[38;5;124m'\u001b[39m\u001b[38;5;124mdark\u001b[39m\u001b[38;5;124m'\u001b[39m \u001b[38;5;28;01mif\u001b[39;00m ticksLight[\u001b[38;5;241m0\u001b[39m] \u001b[38;5;28;01melse\u001b[39;00m \u001b[38;5;124m'\u001b[39m\u001b[38;5;124mlight\u001b[39m\u001b[38;5;124m'\u001b[39m}\n",
      "File \u001b[1;32m~\\anaconda3\\envs\\data-scientist\\lib\\site-packages\\matplotlib\\axis.py:1249\u001b[0m, in \u001b[0;36mAxis.get_ticklabels\u001b[1;34m(self, minor, which)\u001b[0m\n\u001b[0;32m   1247\u001b[0m \u001b[38;5;28;01mif\u001b[39;00m minor:\n\u001b[0;32m   1248\u001b[0m     \u001b[38;5;28;01mreturn\u001b[39;00m \u001b[38;5;28mself\u001b[39m\u001b[38;5;241m.\u001b[39mget_minorticklabels()\n\u001b[1;32m-> 1249\u001b[0m \u001b[38;5;28;01mreturn\u001b[39;00m \u001b[38;5;28;43mself\u001b[39;49m\u001b[38;5;241;43m.\u001b[39;49m\u001b[43mget_majorticklabels\u001b[49m\u001b[43m(\u001b[49m\u001b[43m)\u001b[49m\n",
      "File \u001b[1;32m~\\anaconda3\\envs\\data-scientist\\lib\\site-packages\\matplotlib\\axis.py:1201\u001b[0m, in \u001b[0;36mAxis.get_majorticklabels\u001b[1;34m(self)\u001b[0m\n\u001b[0;32m   1199\u001b[0m \u001b[38;5;28;01mdef\u001b[39;00m \u001b[38;5;21mget_majorticklabels\u001b[39m(\u001b[38;5;28mself\u001b[39m):\n\u001b[0;32m   1200\u001b[0m     \u001b[38;5;124;03m\"\"\"Return this Axis' major tick labels, as a list of `~.text.Text`.\"\"\"\u001b[39;00m\n\u001b[1;32m-> 1201\u001b[0m     ticks \u001b[38;5;241m=\u001b[39m \u001b[38;5;28;43mself\u001b[39;49m\u001b[38;5;241;43m.\u001b[39;49m\u001b[43mget_major_ticks\u001b[49m\u001b[43m(\u001b[49m\u001b[43m)\u001b[49m\n\u001b[0;32m   1202\u001b[0m     labels1 \u001b[38;5;241m=\u001b[39m [tick\u001b[38;5;241m.\u001b[39mlabel1 \u001b[38;5;28;01mfor\u001b[39;00m tick \u001b[38;5;129;01min\u001b[39;00m ticks \u001b[38;5;28;01mif\u001b[39;00m tick\u001b[38;5;241m.\u001b[39mlabel1\u001b[38;5;241m.\u001b[39mget_visible()]\n\u001b[0;32m   1203\u001b[0m     labels2 \u001b[38;5;241m=\u001b[39m [tick\u001b[38;5;241m.\u001b[39mlabel2 \u001b[38;5;28;01mfor\u001b[39;00m tick \u001b[38;5;129;01min\u001b[39;00m ticks \u001b[38;5;28;01mif\u001b[39;00m tick\u001b[38;5;241m.\u001b[39mlabel2\u001b[38;5;241m.\u001b[39mget_visible()]\n",
      "File \u001b[1;32m~\\anaconda3\\envs\\data-scientist\\lib\\site-packages\\matplotlib\\axis.py:1371\u001b[0m, in \u001b[0;36mAxis.get_major_ticks\u001b[1;34m(self, numticks)\u001b[0m\n\u001b[0;32m   1369\u001b[0m \u001b[38;5;124mr\u001b[39m\u001b[38;5;124;03m\"\"\"Return the list of major `.Tick`\\s.\"\"\"\u001b[39;00m\n\u001b[0;32m   1370\u001b[0m \u001b[38;5;28;01mif\u001b[39;00m numticks \u001b[38;5;129;01mis\u001b[39;00m \u001b[38;5;28;01mNone\u001b[39;00m:\n\u001b[1;32m-> 1371\u001b[0m     numticks \u001b[38;5;241m=\u001b[39m \u001b[38;5;28mlen\u001b[39m(\u001b[38;5;28;43mself\u001b[39;49m\u001b[38;5;241;43m.\u001b[39;49m\u001b[43mget_majorticklocs\u001b[49m\u001b[43m(\u001b[49m\u001b[43m)\u001b[49m)\n\u001b[0;32m   1373\u001b[0m \u001b[38;5;28;01mwhile\u001b[39;00m \u001b[38;5;28mlen\u001b[39m(\u001b[38;5;28mself\u001b[39m\u001b[38;5;241m.\u001b[39mmajorTicks) \u001b[38;5;241m<\u001b[39m numticks:\n\u001b[0;32m   1374\u001b[0m     \u001b[38;5;66;03m# Update the new tick label properties from the old.\u001b[39;00m\n\u001b[0;32m   1375\u001b[0m     tick \u001b[38;5;241m=\u001b[39m \u001b[38;5;28mself\u001b[39m\u001b[38;5;241m.\u001b[39m_get_tick(major\u001b[38;5;241m=\u001b[39m\u001b[38;5;28;01mTrue\u001b[39;00m)\n",
      "File \u001b[1;32m~\\anaconda3\\envs\\data-scientist\\lib\\site-packages\\matplotlib\\axis.py:1277\u001b[0m, in \u001b[0;36mAxis.get_majorticklocs\u001b[1;34m(self)\u001b[0m\n\u001b[0;32m   1275\u001b[0m \u001b[38;5;28;01mdef\u001b[39;00m \u001b[38;5;21mget_majorticklocs\u001b[39m(\u001b[38;5;28mself\u001b[39m):\n\u001b[0;32m   1276\u001b[0m     \u001b[38;5;124;03m\"\"\"Return this Axis' major tick locations in data coordinates.\"\"\"\u001b[39;00m\n\u001b[1;32m-> 1277\u001b[0m     \u001b[38;5;28;01mreturn\u001b[39;00m \u001b[38;5;28;43mself\u001b[39;49m\u001b[38;5;241;43m.\u001b[39;49m\u001b[43mmajor\u001b[49m\u001b[38;5;241;43m.\u001b[39;49m\u001b[43mlocator\u001b[49m\u001b[43m(\u001b[49m\u001b[43m)\u001b[49m\n",
      "File \u001b[1;32m~\\anaconda3\\envs\\data-scientist\\lib\\site-packages\\matplotlib\\dates.py:1340\u001b[0m, in \u001b[0;36mAutoDateLocator.__call__\u001b[1;34m(self)\u001b[0m\n\u001b[0;32m   1338\u001b[0m \u001b[38;5;28;01mdef\u001b[39;00m \u001b[38;5;21m__call__\u001b[39m(\u001b[38;5;28mself\u001b[39m):\n\u001b[0;32m   1339\u001b[0m     \u001b[38;5;66;03m# docstring inherited\u001b[39;00m\n\u001b[1;32m-> 1340\u001b[0m     dmin, dmax \u001b[38;5;241m=\u001b[39m \u001b[38;5;28;43mself\u001b[39;49m\u001b[38;5;241;43m.\u001b[39;49m\u001b[43mviewlim_to_dt\u001b[49m\u001b[43m(\u001b[49m\u001b[43m)\u001b[49m\n\u001b[0;32m   1341\u001b[0m     locator \u001b[38;5;241m=\u001b[39m \u001b[38;5;28mself\u001b[39m\u001b[38;5;241m.\u001b[39mget_locator(dmin, dmax)\n\u001b[0;32m   1342\u001b[0m     \u001b[38;5;28;01mreturn\u001b[39;00m locator()\n",
      "File \u001b[1;32m~\\anaconda3\\envs\\data-scientist\\lib\\site-packages\\matplotlib\\dates.py:1125\u001b[0m, in \u001b[0;36mDateLocator.viewlim_to_dt\u001b[1;34m(self)\u001b[0m\n\u001b[0;32m   1123\u001b[0m \u001b[38;5;28;01mif\u001b[39;00m vmin \u001b[38;5;241m>\u001b[39m vmax:\n\u001b[0;32m   1124\u001b[0m     vmin, vmax \u001b[38;5;241m=\u001b[39m vmax, vmin\n\u001b[1;32m-> 1125\u001b[0m \u001b[38;5;28;01mreturn\u001b[39;00m \u001b[43mnum2date\u001b[49m\u001b[43m(\u001b[49m\u001b[43mvmin\u001b[49m\u001b[43m,\u001b[49m\u001b[43m \u001b[49m\u001b[38;5;28;43mself\u001b[39;49m\u001b[38;5;241;43m.\u001b[39;49m\u001b[43mtz\u001b[49m\u001b[43m)\u001b[49m, num2date(vmax, \u001b[38;5;28mself\u001b[39m\u001b[38;5;241m.\u001b[39mtz)\n",
      "File \u001b[1;32m~\\anaconda3\\envs\\data-scientist\\lib\\site-packages\\matplotlib\\dates.py:528\u001b[0m, in \u001b[0;36mnum2date\u001b[1;34m(x, tz)\u001b[0m\n\u001b[0;32m    526\u001b[0m \u001b[38;5;28;01mif\u001b[39;00m tz \u001b[38;5;129;01mis\u001b[39;00m \u001b[38;5;28;01mNone\u001b[39;00m:\n\u001b[0;32m    527\u001b[0m     tz \u001b[38;5;241m=\u001b[39m _get_rc_timezone()\n\u001b[1;32m--> 528\u001b[0m \u001b[38;5;28;01mreturn\u001b[39;00m \u001b[43m_from_ordinalf_np_vectorized\u001b[49m\u001b[43m(\u001b[49m\u001b[43mx\u001b[49m\u001b[43m,\u001b[49m\u001b[43m \u001b[49m\u001b[43mtz\u001b[49m\u001b[43m)\u001b[49m\u001b[38;5;241m.\u001b[39mtolist()\n",
      "File \u001b[1;32m~\\anaconda3\\envs\\data-scientist\\lib\\site-packages\\numpy\\lib\\function_base.py:2304\u001b[0m, in \u001b[0;36mvectorize.__call__\u001b[1;34m(self, *args, **kwargs)\u001b[0m\n\u001b[0;32m   2301\u001b[0m     vargs \u001b[38;5;241m=\u001b[39m [args[_i] \u001b[38;5;28;01mfor\u001b[39;00m _i \u001b[38;5;129;01min\u001b[39;00m inds]\n\u001b[0;32m   2302\u001b[0m     vargs\u001b[38;5;241m.\u001b[39mextend([kwargs[_n] \u001b[38;5;28;01mfor\u001b[39;00m _n \u001b[38;5;129;01min\u001b[39;00m names])\n\u001b[1;32m-> 2304\u001b[0m \u001b[38;5;28;01mreturn\u001b[39;00m \u001b[38;5;28;43mself\u001b[39;49m\u001b[38;5;241;43m.\u001b[39;49m\u001b[43m_vectorize_call\u001b[49m\u001b[43m(\u001b[49m\u001b[43mfunc\u001b[49m\u001b[38;5;241;43m=\u001b[39;49m\u001b[43mfunc\u001b[49m\u001b[43m,\u001b[49m\u001b[43m \u001b[49m\u001b[43margs\u001b[49m\u001b[38;5;241;43m=\u001b[39;49m\u001b[43mvargs\u001b[49m\u001b[43m)\u001b[49m\n",
      "File \u001b[1;32m~\\anaconda3\\envs\\data-scientist\\lib\\site-packages\\numpy\\lib\\function_base.py:2387\u001b[0m, in \u001b[0;36mvectorize._vectorize_call\u001b[1;34m(self, func, args)\u001b[0m\n\u001b[0;32m   2384\u001b[0m \u001b[38;5;66;03m# Convert args to object arrays first\u001b[39;00m\n\u001b[0;32m   2385\u001b[0m inputs \u001b[38;5;241m=\u001b[39m [asanyarray(a, dtype\u001b[38;5;241m=\u001b[39m\u001b[38;5;28mobject\u001b[39m) \u001b[38;5;28;01mfor\u001b[39;00m a \u001b[38;5;129;01min\u001b[39;00m args]\n\u001b[1;32m-> 2387\u001b[0m outputs \u001b[38;5;241m=\u001b[39m \u001b[43mufunc\u001b[49m\u001b[43m(\u001b[49m\u001b[38;5;241;43m*\u001b[39;49m\u001b[43minputs\u001b[49m\u001b[43m)\u001b[49m\n\u001b[0;32m   2389\u001b[0m \u001b[38;5;28;01mif\u001b[39;00m ufunc\u001b[38;5;241m.\u001b[39mnout \u001b[38;5;241m==\u001b[39m \u001b[38;5;241m1\u001b[39m:\n\u001b[0;32m   2390\u001b[0m     res \u001b[38;5;241m=\u001b[39m asanyarray(outputs, dtype\u001b[38;5;241m=\u001b[39motypes[\u001b[38;5;241m0\u001b[39m])\n",
      "File \u001b[1;32m~\\anaconda3\\envs\\data-scientist\\lib\\site-packages\\matplotlib\\dates.py:359\u001b[0m, in \u001b[0;36m_from_ordinalf\u001b[1;34m(x, tz)\u001b[0m\n\u001b[0;32m    357\u001b[0m dt \u001b[38;5;241m=\u001b[39m dt\u001b[38;5;241m.\u001b[39mreplace(tzinfo\u001b[38;5;241m=\u001b[39mdateutil\u001b[38;5;241m.\u001b[39mtz\u001b[38;5;241m.\u001b[39mgettz(\u001b[38;5;124m'\u001b[39m\u001b[38;5;124mUTC\u001b[39m\u001b[38;5;124m'\u001b[39m))\n\u001b[0;32m    358\u001b[0m \u001b[38;5;66;03m# but maybe we are working in a different timezone so move.\u001b[39;00m\n\u001b[1;32m--> 359\u001b[0m dt \u001b[38;5;241m=\u001b[39m \u001b[43mdt\u001b[49m\u001b[38;5;241;43m.\u001b[39;49m\u001b[43mastimezone\u001b[49m\u001b[43m(\u001b[49m\u001b[43mtz\u001b[49m\u001b[43m)\u001b[49m\n\u001b[0;32m    360\u001b[0m \u001b[38;5;66;03m# fix round off errors\u001b[39;00m\n\u001b[0;32m    361\u001b[0m \u001b[38;5;28;01mif\u001b[39;00m np\u001b[38;5;241m.\u001b[39mabs(x) \u001b[38;5;241m>\u001b[39m \u001b[38;5;241m70\u001b[39m \u001b[38;5;241m*\u001b[39m \u001b[38;5;241m365\u001b[39m:\n\u001b[0;32m    362\u001b[0m     \u001b[38;5;66;03m# if x is big, round off to nearest twenty microseconds.\u001b[39;00m\n\u001b[0;32m    363\u001b[0m     \u001b[38;5;66;03m# This avoids floating point roundoff error\u001b[39;00m\n",
      "\u001b[1;31mTypeError\u001b[0m: tzinfo argument must be None or of a tzinfo subclass, not type 'UnitData'"
     ]
    }
   ],
   "source": [
    "for i in ['Close']:\n",
    "    plt.figure(figsize=(12,5), dpi=100)\n",
    "    plt.plot(trainX[str(i)],label='training')\n",
    "    plt.plot(testX[str(i)],label='training')\n",
    "    plt.plot(result,label='predicting')\n",
    "    plt.xlabel(str(i))\n",
    "    plt.show()"
   ]
  }
 ],
 "metadata": {
  "kernelspec": {
   "display_name": "Python 3 (ipykernel)",
   "language": "python",
   "name": "python3"
  },
  "language_info": {
   "codemirror_mode": {
    "name": "ipython",
    "version": 3
   },
   "file_extension": ".py",
   "mimetype": "text/x-python",
   "name": "python",
   "nbconvert_exporter": "python",
   "pygments_lexer": "ipython3",
   "version": "3.8.10"
  }
 },
 "nbformat": 4,
 "nbformat_minor": 5
}
